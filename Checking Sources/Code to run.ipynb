{
 "cells": [
  {
   "cell_type": "code",
   "execution_count": 2,
   "metadata": {},
   "outputs": [
    {
     "ename": "FileNotFoundError",
     "evalue": "[Errno 2] No such file or directory: 'y3_gold_2.2.1_wide_sofcol_run2_redmapper_v6.4.22+2_lgt20_vl50_catalog_members.fit'",
     "output_type": "error",
     "traceback": [
      "\u001b[0;31m---------------------------------------------------------------------------\u001b[0m",
      "\u001b[0;31mFileNotFoundError\u001b[0m                         Traceback (most recent call last)",
      "\u001b[0;32m<ipython-input-2-5f10373b1c3e>\u001b[0m in \u001b[0;36m<module>\u001b[0;34m()\u001b[0m\n\u001b[1;32m      9\u001b[0m \u001b[0;34m\u001b[0m\u001b[0m\n\u001b[1;32m     10\u001b[0m \u001b[0;31m## Get the list of sources\u001b[0m\u001b[0;34m\u001b[0m\u001b[0;34m\u001b[0m\u001b[0m\n\u001b[0;32m---> 11\u001b[0;31m \u001b[0mRM_sources\u001b[0m \u001b[0;34m=\u001b[0m \u001b[0mTable\u001b[0m\u001b[0;34m.\u001b[0m\u001b[0mread\u001b[0m\u001b[0;34m(\u001b[0m\u001b[0;34m'y3_gold_2.2.1_wide_sofcol_run2_redmapper_v6.4.22+2_lgt20_vl50_catalog_members.fit'\u001b[0m\u001b[0;34m)\u001b[0m\u001b[0;34m\u001b[0m\u001b[0m\n\u001b[0m\u001b[1;32m     12\u001b[0m \u001b[0msources\u001b[0m \u001b[0;34m=\u001b[0m \u001b[0mRM_sources\u001b[0m\u001b[0;34m[\u001b[0m\u001b[0;34m'RA'\u001b[0m\u001b[0;34m,\u001b[0m\u001b[0;34m'DEC'\u001b[0m\u001b[0;34m]\u001b[0m\u001b[0;34m\u001b[0m\u001b[0m\n\u001b[1;32m     13\u001b[0m \u001b[0msources\u001b[0m\u001b[0;34m[\u001b[0m\u001b[0;34m'ROW'\u001b[0m\u001b[0;34m]\u001b[0m \u001b[0;34m=\u001b[0m \u001b[0marange\u001b[0m\u001b[0;34m(\u001b[0m\u001b[0;36m1\u001b[0m\u001b[0;34m,\u001b[0m\u001b[0mlen\u001b[0m\u001b[0;34m(\u001b[0m\u001b[0msources\u001b[0m\u001b[0;34m)\u001b[0m\u001b[0;34m+\u001b[0m\u001b[0;36m1\u001b[0m\u001b[0;34m)\u001b[0m\u001b[0;34m\u001b[0m\u001b[0m\n",
      "\u001b[0;32m~/anaconda/envs/python3/lib/python3.6/site-packages/astropy/table/table.py\u001b[0m in \u001b[0;36mread\u001b[0;34m(cls, *args, **kwargs)\u001b[0m\n\u001b[1;32m   2529\u001b[0m         \u001b[0mpassed\u001b[0m \u001b[0mthrough\u001b[0m \u001b[0mto\u001b[0m \u001b[0mthe\u001b[0m \u001b[0munderlying\u001b[0m \u001b[0mdata\u001b[0m \u001b[0mreader\u001b[0m \u001b[0;34m(\u001b[0m\u001b[0me\u001b[0m\u001b[0;34m.\u001b[0m\u001b[0mg\u001b[0m\u001b[0;34m.\u001b[0m\u001b[0;31m \u001b[0m\u001b[0;31m`\u001b[0m\u001b[0;34m~\u001b[0m\u001b[0mastropy\u001b[0m\u001b[0;34m.\u001b[0m\u001b[0mio\u001b[0m\u001b[0;34m.\u001b[0m\u001b[0mascii\u001b[0m\u001b[0;34m.\u001b[0m\u001b[0mread\u001b[0m\u001b[0;31m`\u001b[0m\u001b[0;34m)\u001b[0m\u001b[0;34m.\u001b[0m\u001b[0;34m\u001b[0m\u001b[0m\n\u001b[1;32m   2530\u001b[0m         \"\"\"\n\u001b[0;32m-> 2531\u001b[0;31m         \u001b[0mout\u001b[0m \u001b[0;34m=\u001b[0m \u001b[0mio_registry\u001b[0m\u001b[0;34m.\u001b[0m\u001b[0mread\u001b[0m\u001b[0;34m(\u001b[0m\u001b[0mcls\u001b[0m\u001b[0;34m,\u001b[0m \u001b[0;34m*\u001b[0m\u001b[0margs\u001b[0m\u001b[0;34m,\u001b[0m \u001b[0;34m**\u001b[0m\u001b[0mkwargs\u001b[0m\u001b[0;34m)\u001b[0m\u001b[0;34m\u001b[0m\u001b[0m\n\u001b[0m\u001b[1;32m   2532\u001b[0m         \u001b[0;31m# For some readers (e.g., ascii.ecsv), the returned `out` class is not\u001b[0m\u001b[0;34m\u001b[0m\u001b[0;34m\u001b[0m\u001b[0m\n\u001b[1;32m   2533\u001b[0m         \u001b[0;31m# guaranteed to be the same as the desired output `cls`.  If so,\u001b[0m\u001b[0;34m\u001b[0m\u001b[0;34m\u001b[0m\u001b[0m\n",
      "\u001b[0;32m~/anaconda/envs/python3/lib/python3.6/site-packages/astropy/io/registry.py\u001b[0m in \u001b[0;36mread\u001b[0;34m(cls, format, *args, **kwargs)\u001b[0m\n\u001b[1;32m    500\u001b[0m                     \u001b[0;32mtry\u001b[0m\u001b[0;34m:\u001b[0m\u001b[0;34m\u001b[0m\u001b[0m\n\u001b[1;32m    501\u001b[0m                         \u001b[0mctx\u001b[0m \u001b[0;34m=\u001b[0m \u001b[0mget_readable_fileobj\u001b[0m\u001b[0;34m(\u001b[0m\u001b[0margs\u001b[0m\u001b[0;34m[\u001b[0m\u001b[0;36m0\u001b[0m\u001b[0;34m]\u001b[0m\u001b[0;34m,\u001b[0m \u001b[0mencoding\u001b[0m\u001b[0;34m=\u001b[0m\u001b[0;34m'binary'\u001b[0m\u001b[0;34m)\u001b[0m\u001b[0;34m\u001b[0m\u001b[0m\n\u001b[0;32m--> 502\u001b[0;31m                         \u001b[0mfileobj\u001b[0m \u001b[0;34m=\u001b[0m \u001b[0mctx\u001b[0m\u001b[0;34m.\u001b[0m\u001b[0m__enter__\u001b[0m\u001b[0;34m(\u001b[0m\u001b[0;34m)\u001b[0m\u001b[0;34m\u001b[0m\u001b[0m\n\u001b[0m\u001b[1;32m    503\u001b[0m                     \u001b[0;32mexcept\u001b[0m \u001b[0mOSError\u001b[0m\u001b[0;34m:\u001b[0m\u001b[0;34m\u001b[0m\u001b[0m\n\u001b[1;32m    504\u001b[0m                         \u001b[0;32mraise\u001b[0m\u001b[0;34m\u001b[0m\u001b[0m\n",
      "\u001b[0;32m~/anaconda/envs/python3/lib/python3.6/contextlib.py\u001b[0m in \u001b[0;36m__enter__\u001b[0;34m(self)\u001b[0m\n\u001b[1;32m     79\u001b[0m     \u001b[0;32mdef\u001b[0m \u001b[0m__enter__\u001b[0m\u001b[0;34m(\u001b[0m\u001b[0mself\u001b[0m\u001b[0;34m)\u001b[0m\u001b[0;34m:\u001b[0m\u001b[0;34m\u001b[0m\u001b[0m\n\u001b[1;32m     80\u001b[0m         \u001b[0;32mtry\u001b[0m\u001b[0;34m:\u001b[0m\u001b[0;34m\u001b[0m\u001b[0m\n\u001b[0;32m---> 81\u001b[0;31m             \u001b[0;32mreturn\u001b[0m \u001b[0mnext\u001b[0m\u001b[0;34m(\u001b[0m\u001b[0mself\u001b[0m\u001b[0;34m.\u001b[0m\u001b[0mgen\u001b[0m\u001b[0;34m)\u001b[0m\u001b[0;34m\u001b[0m\u001b[0m\n\u001b[0m\u001b[1;32m     82\u001b[0m         \u001b[0;32mexcept\u001b[0m \u001b[0mStopIteration\u001b[0m\u001b[0;34m:\u001b[0m\u001b[0;34m\u001b[0m\u001b[0m\n\u001b[1;32m     83\u001b[0m             \u001b[0;32mraise\u001b[0m \u001b[0mRuntimeError\u001b[0m\u001b[0;34m(\u001b[0m\u001b[0;34m\"generator didn't yield\"\u001b[0m\u001b[0;34m)\u001b[0m \u001b[0;32mfrom\u001b[0m \u001b[0;32mNone\u001b[0m\u001b[0;34m\u001b[0m\u001b[0m\n",
      "\u001b[0;32m~/anaconda/envs/python3/lib/python3.6/site-packages/astropy/utils/data.py\u001b[0m in \u001b[0;36mget_readable_fileobj\u001b[0;34m(name_or_obj, encoding, cache, show_progress, remote_timeout)\u001b[0m\n\u001b[1;32m    191\u001b[0m                 \u001b[0mname_or_obj\u001b[0m\u001b[0;34m,\u001b[0m \u001b[0mcache\u001b[0m\u001b[0;34m=\u001b[0m\u001b[0mcache\u001b[0m\u001b[0;34m,\u001b[0m \u001b[0mshow_progress\u001b[0m\u001b[0;34m=\u001b[0m\u001b[0mshow_progress\u001b[0m\u001b[0;34m,\u001b[0m\u001b[0;34m\u001b[0m\u001b[0m\n\u001b[1;32m    192\u001b[0m                 timeout=remote_timeout)\n\u001b[0;32m--> 193\u001b[0;31m         \u001b[0mfileobj\u001b[0m \u001b[0;34m=\u001b[0m \u001b[0mio\u001b[0m\u001b[0;34m.\u001b[0m\u001b[0mFileIO\u001b[0m\u001b[0;34m(\u001b[0m\u001b[0mname_or_obj\u001b[0m\u001b[0;34m,\u001b[0m \u001b[0;34m'r'\u001b[0m\u001b[0;34m)\u001b[0m\u001b[0;34m\u001b[0m\u001b[0m\n\u001b[0m\u001b[1;32m    194\u001b[0m         \u001b[0;32mif\u001b[0m \u001b[0mis_url\u001b[0m \u001b[0;32mand\u001b[0m \u001b[0;32mnot\u001b[0m \u001b[0mcache\u001b[0m\u001b[0;34m:\u001b[0m\u001b[0;34m\u001b[0m\u001b[0m\n\u001b[1;32m    195\u001b[0m             \u001b[0mdelete_fds\u001b[0m\u001b[0;34m.\u001b[0m\u001b[0mappend\u001b[0m\u001b[0;34m(\u001b[0m\u001b[0mfileobj\u001b[0m\u001b[0;34m)\u001b[0m\u001b[0;34m\u001b[0m\u001b[0m\n",
      "\u001b[0;31mFileNotFoundError\u001b[0m: [Errno 2] No such file or directory: 'y3_gold_2.2.1_wide_sofcol_run2_redmapper_v6.4.22+2_lgt20_vl50_catalog_members.fit'"
     ]
    }
   ],
   "source": [
    "from numpy import *\n",
    "from astropy.table import Table\n",
    "import glob\n",
    "from astropy.coordinates import SkyCoord\n",
    "from astropy import units as u\n",
    "from IPython.display import clear_output\n",
    "from astropy.table import unique\n",
    "from astropy.table import vstack\n",
    "\n",
    "## Get the list of sources\n",
    "RM_sources = Table.read('y3_gold_2.2.1_wide_sofcol_run2_redmapper_v6.4.22+2_lgt20_vl50_catalog_members.fit')\n",
    "sources = RM_sources['RA','DEC']\n",
    "sources['ROW'] = arange(1,len(sources)+1)\n",
    "sources.add_index('RA') # For future sorting\n",
    "\n",
    "tolerance = 2.0 #In arcseconds\n",
    "\n",
    "## For comparing with Cluster Catalog\n",
    "Verif_Catalog = Table.read('y3_gold_2.2.1_wide_sofcol_run2_redmapper_v6.4.22+2_lgt20_vl50_catalog.fit')\n",
    "Verif_Catalog = Verif_Catalog['MEM_MATCH_ID','LAMBDA_CHISQ','ILUM'] #If more data is wanted, then more columns will need to be added\n",
    "Verif_Catalog.add_index('MEM_MATCH_ID') # For future sorting\n",
    "##\n",
    "\n",
    "### Table that will be printed out. Can easily be modified to include other data. To do that: do the following\n",
    "# 1) Add or remove the number of complete brackets in Final_Table\n",
    "# 2) Assign a column name and assign a type, being float or string or whatever\n",
    "# 3) Near the end you will see 'Final_Table.add_row'. You'll need to fill in with the data that you want\n",
    "# ##\n",
    "Final_Table = Table([[],[],[],[],[],[],[],[],[],[],[],[],[],[]], names=('MEM_MATCH_ID','X-Ray RA','X-Ray DEC','Galaxy RA','Galaxy DEC','P','PFREE','Z','ZLUM','LAMBDA_CHISQ','Galaxy File Row','X-Ray File','X-Ray File Row','Distance'),dtype=('f8', 'f8','f8','f8','f8','f8','f8','f8','f8','f8','i4','U35','i4','U35'))\n",
    "\n",
    "Locations = glob.glob('Locations/*')\n",
    "for counter,catalogue in enumerate(Locations,1):\n",
    "    clear_output()\n",
    "    print(counter*100.0/len(Locations),'%')\n",
    "    chips = glob.glob(catalogue+'/*')\n",
    "#    if counter>50:\n",
    "#        break\n",
    "    for chip in chips:\n",
    "\n",
    "## Tests each file provided against starting list\n",
    "#         print chip\n",
    "        try:\n",
    "            X_sources = Table.read(chip+'/wav_src.fits') # Reads the .fits file\n",
    "            t = X_sources['COMPONENT','RA','DEC']\n",
    "\n",
    "            RA = array(t['RA']) # Seperates into coordinates\n",
    "            DEC = array(t['DEC'])\n",
    "\n",
    "            RA_max = amax(RA)+tolerance/60.0# Gets max and min values of RA and DEC to search in\n",
    "            RA_min = amin(RA)-tolerance/60.0\n",
    "            DEC_max = amax(DEC)+tolerance/60.0\n",
    "            DEC_min = amin(DEC)-tolerance/60.0\n",
    "\n",
    "            y = sources.loc['RA',RA_min:RA_max]# Looks for which IDs are in the plate\n",
    "            y.add_index('DEC')\n",
    "            z = y.loc['DEC',DEC_min:DEC_max]\n",
    "            z = z.group_by('ROW')\n",
    "\n",
    "            #Calculates distance and locates only within tolerance. Does not assume small angle approximation\n",
    "            X = SkyCoord(ra=t['RA'], dec=t['DEC'])\n",
    "            catalog = SkyCoord(ra=z['RA']*u.degree, dec=z['DEC']*u.degree)\n",
    "\n",
    "            idxx, idxcatalog, d2d, d3d = X.search_around_sky(catalog, tolerance*u.arcsecond)\n",
    "            #Writing table\n",
    "            d2d_number = 0\n",
    "            for j,k in zip(idxx,idxcatalog):\n",
    "                row_RM = z[j-1][2]\n",
    "                row_X = t[k][0]-1\n",
    "\n",
    "                radius = str(d2d[d2d_number])\n",
    "\n",
    "                Final_Table.add_row([RM_sources[row_RM]['MEM_MATCH_ID'],X_sources[row_X]['RA'],X_sources[row_X]['DEC'],RM_sources[row_RM]['RA'],RM_sources[row_RM]['DEC'],RM_sources[row_RM]['P'],RM_sources[row_RM]['PFREE'],RM_sources[row_RM]['Z'],Verif_Catalog.loc['MEM_MATCH_ID',RM_sources[row_RM]['MEM_MATCH_ID']][2],Verif_Catalog.loc['MEM_MATCH_ID',RM_sources[row_RM]['MEM_MATCH_ID']][1],row_RM,chip.replace('Locations/',''),row_X,str(d2d[d2d_number]).replace('0d00m','')])\n",
    "                d2d_number+=1\n",
    "        except:\n",
    "            pass\n",
    "#print Final_Table #For Debugging purposes\n",
    "# Final_Table.write('table_Y3.csv', format='ascii.csv',overwrite='true')# To have full match list\n",
    "print('Finished Finding AGN')\n",
    "\n",
    "## Editing table to include unique matches only. Can be ignored if accounted for later\n",
    "qw = Final_Table\n",
    "t = unique(qw, keys=[\"MEM_MATCH_ID\",'Galaxy RA','X-Ray DEC'])\n",
    "t.write('table_Y3_unique.csv',overwrite=True) #Final match list\n",
    "\n",
    "\n",
    "## Table for catalog members are in clusters with at least one AGN source\n",
    "t = unique(t, keys=\"MEM_MATCH_ID\")\n",
    "ending = Table()\n",
    "for i in t['MEM_MATCH_ID']:\n",
    "    \n",
    "    new = RM_sources[RM_sources['MEM_MATCH_ID']==i]\n",
    "    ending = vstack([new,ending])\n",
    "\n",
    "ending.write('catalog_members_relevant.fits',overwrite=True)\n"
   ]
  },
  {
   "cell_type": "code",
   "execution_count": 3,
   "metadata": {
    "collapsed": true
   },
   "outputs": [],
   "source": []
  },
  {
   "cell_type": "code",
   "execution_count": 5,
   "metadata": {
    "collapsed": true
   },
   "outputs": [],
   "source": []
  },
  {
   "cell_type": "code",
   "execution_count": null,
   "metadata": {
    "collapsed": true
   },
   "outputs": [],
   "source": []
  }
 ],
 "metadata": {
  "kernelspec": {
   "display_name": "Python 3",
   "language": "python",
   "name": "python3"
  },
  "language_info": {
   "codemirror_mode": {
    "name": "ipython",
    "version": 3
   },
   "file_extension": ".py",
   "mimetype": "text/x-python",
   "name": "python",
   "nbconvert_exporter": "python",
   "pygments_lexer": "ipython3",
   "version": "3.6.5"
  }
 },
 "nbformat": 4,
 "nbformat_minor": 2
}
