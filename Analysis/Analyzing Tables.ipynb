{
 "cells": [
  {
   "cell_type": "markdown",
   "metadata": {},
   "source": [
    "## Before we do any analysis, we need to combine some data from all of our datasets. Run the following block first to generate the final tables that you will need. "
   ]
  },
  {
   "cell_type": "code",
   "execution_count": 1,
   "metadata": {
    "scrolled": true
   },
   "outputs": [
    {
     "name": "stdout",
     "output_type": "stream",
     "text": [
      "Initializing\n",
      "Sorting by RA and Dec\n",
      "Done (1 of 3)\n",
      "Sorting by MEM_MATCH_ID\n",
      "Done (2 of 3)\n",
      "Sorting for AGN\n",
      "16%\n",
      "33%\n",
      "49%\n",
      "66%\n",
      "82%\n",
      "99%\n",
      "Done (3 of 3). Finalizing\n",
      "All Done\n"
     ]
    }
   ],
   "source": [
    "###\n",
    "# Before we do any analysis, the table needs to be adjusted to put in all the data that we need for analysis. \n",
    "###\n",
    "\n",
    "from astropy.table import Table, unique, vstack, hstack\n",
    "from matplotlib.pyplot import *\n",
    "from astropy.coordinates import SkyCoord\n",
    "from astropy import units as u\n",
    "import numpy as np\n",
    "\n",
    "print('Initializing')\n",
    "\n",
    "## The name of the file that comes from x-ray analysis and after relevant cuts are made. \n",
    "## Currently, the match table is listed, but the correct file will be needed in the future. \n",
    "main = Table.read('match_table.fits')\n",
    "main.sort('RA')\n",
    "\n",
    "## Generated from the Checking Sources tab\n",
    "mem = Table.read('catalog_members_relevant.fits')\n",
    "mem.sort('RA')\n",
    "\n",
    "AGN = Table.read('table_Y3_unique.csv')\n",
    "\n",
    "## Things to add\n",
    "main['Z'] = np.zeros(len(main['RA']))\n",
    "main['P'] = np.zeros(len(main['RA']))\n",
    "main['MEM_MATCH_ID'] = np.zeros(len(main['RA']),dtype=int)\n",
    "main['LAMBDA_CHISQ'] = np.zeros(len(main['RA']))\n",
    "main['Count'] = np.arange(0,len(main))\n",
    "main['AGN_Candidate'] = np.zeros(len(main['RA']),dtype=bool)\n",
    "\n",
    "print('Sorting by RA and Dec')\n",
    "\n",
    "## Sorts by RA and Dec\n",
    "X = SkyCoord(ra=main['RA']*u.degree, dec=main['DEC']*u.degree)\n",
    "catalog = SkyCoord(ra=mem['RA']*u.degree, dec=mem['DEC']*u.degree)\n",
    "\n",
    "idxx, d2d, d3d = X.match_to_catalog_sky(catalog)\n",
    "\n",
    "## Assigns values based on RA and Dec\n",
    "for count in np.arange(0,len(idxx)):\n",
    "\n",
    "    relation_index = idxx[count]\n",
    "    main['Z'][count] = mem['Z'][relation_index]\n",
    "    main['P'][count] = mem['P'][relation_index]\n",
    "    main['MEM_MATCH_ID'][count] = mem['MEM_MATCH_ID'][relation_index]\n",
    "print('Done (1 of 3)')\n",
    "\n",
    "print('Sorting by MEM_MATCH_ID')\n",
    "## Sorts by MEM MATCH ID        \n",
    "xsorted = np.argsort(AGN['MEM_MATCH_ID'])\n",
    "ypos = np.searchsorted(AGN['MEM_MATCH_ID'][xsorted], main['MEM_MATCH_ID'])\n",
    "indices = xsorted[ypos]\n",
    "\n",
    "## Assigns values based on MEM MATCH ID\n",
    "for count in np.arange(0,len(idxx)):\n",
    "    main['LAMBDA_CHISQ'][count] = AGN['LAMBDA_CHISQ'][indices[count]]\n",
    "print('Done (2 of 3)')\n",
    "print('Sorting for AGN')\n",
    "    \n",
    "i=0\n",
    "for ra_gal in AGN['Galaxy RA']:\n",
    "    dummy = main[main['RA']<ra_gal+0.0000001]\n",
    "    dummy = dummy[dummy['RA']>ra_gal-0.0000001]\n",
    "    \n",
    "    for count in dummy['Count']:\n",
    "        main['AGN_Candidate'][count] = True\n",
    "    i+=1\n",
    "    if i%100==0:\n",
    "        print(str(round(i*100.0/len(AGN)))+'%')\n",
    "    \n",
    "print('Done (3 of 3). Finalizing')\n",
    "main.write('Full_Analysis_Table.fits',overwrite=True)\n",
    "\n",
    "main.sort('time')\n",
    "main.reverse()\n",
    "main = unique(main,keys=('RA','DEC'))\n",
    "main.sort('obsid')\n",
    "\n",
    "main.write('Unique_Analysis_Table.fits',overwrite=True)\n",
    "\n",
    "print('All Done')"
   ]
  },
  {
   "cell_type": "markdown",
   "metadata": {},
   "source": [
    "### By the end you will have two files. One is the full table with no cuts and the other is only unique RA and Dec values prioritized by longest exposure time. \n",
    "\n",
    "### Now you have to choose which file to use. Edit the file name below"
   ]
  },
  {
   "cell_type": "code",
   "execution_count": 2,
   "metadata": {},
   "outputs": [],
   "source": [
    "working_file = Table.read('Unique_Analysis_Table.fits')"
   ]
  },
  {
   "cell_type": "markdown",
   "metadata": {
    "collapsed": true
   },
   "source": [
    "### Now we are going to seperate the following by what analysis we want. Remember that you can change the number of bins you want in each bit of code near the top\n",
    "\n",
    "### Histograms of Richness and Redshift"
   ]
  },
  {
   "cell_type": "code",
   "execution_count": 3,
   "metadata": {},
   "outputs": [
    {
     "data": {
      "image/png": "[encoded data removed]",
      "text/plain": [
       "<Figure size 432x288 with 1 Axes>"
      ]
     },
     "metadata": {},
     "output_type": "display_data"
    },
    {
     "data": {
      "image/png": "[encoded data removed]",
      "text/plain": [
       "<Figure size 432x288 with 1 Axes>"
      ]
     },
     "metadata": {},
     "output_type": "display_data"
    }
   ],
   "source": [
    "hist(unique(working_file,keys='MEM_MATCH_ID')['LAMBDA_CHISQ'],bins='auto')\n",
    "xlabel('Richness')\n",
    "title('Richness Distribution')\n",
    "show()\n",
    "hist(unique(working_file,keys='MEM_MATCH_ID')['Z'],bins='auto')\n",
    "xlabel('Redshift')\n",
    "title('Redshift Distribution')\n",
    "show()"
   ]
  },
  {
   "cell_type": "markdown",
   "metadata": {
    "collapsed": true
   },
   "source": [
    "### Richness with no cuts on redshift"
   ]
  },
  {
   "cell_type": "code",
   "execution_count": 4,
   "metadata": {},
   "outputs": [
    {
     "data": {
      "image/png": "[encoded data removed]",
      "text/plain": [
       "<Figure size 432x288 with 1 Axes>"
      ]
     },
     "metadata": {},
     "output_type": "display_data"
    },
    {
     "data": {
      "text/html": [
       "<i>Table length=5</i>\n",
       "<table id=\"table34834502544\" class=\"table-striped table-bordered table-condensed\">\n",
       "<thead><tr><th>Left Lambda</th><th>Right Lambda</th><th>AGN Fraction</th><th>Number AGN</th><th>Number Other</th><th>Number Clusters</th><th>AGN_Frac_Sigma</th></tr></thead>\n",
       "<thead><tr><th>float64</th><th>float64</th><th>float64</th><th>int32</th><th>int32</th><th>int32</th><th>float64</th></tr></thead>\n",
       "<tr><td>20.0</td><td>56.0</td><td>0.021825763203294175</td><td>209</td><td>8731</td><td>158</td><td>0.0011631648843072574</td></tr>\n",
       "<tr><td>56.0</td><td>92.0</td><td>0.015607942107789166</td><td>101</td><td>5288</td><td>49</td><td>0.0009249152079602494</td></tr>\n",
       "<tr><td>92.0</td><td>128.0</td><td>0.010746392046630944</td><td>80</td><td>6402</td><td>42</td><td>0.0006708876181250207</td></tr>\n",
       "<tr><td>128.0</td><td>164.0</td><td>0.0079173673107812</td><td>42</td><td>3854</td><td>19</td><td>0.0007303740907956261</td></tr>\n",
       "<tr><td>164.0</td><td>200.0</td><td>0.01586618891724432</td><td>25</td><td>1291</td><td>6</td><td>0.00165403413793426</td></tr>\n",
       "</table>"
      ],
      "text/plain": [
       "<Table length=5>\n",
       "Left Lambda Right Lambda ... Number Clusters     AGN_Frac_Sigma   \n",
       "  float64     float64    ...      int32             float64       \n",
       "----------- ------------ ... --------------- ---------------------\n",
       "       20.0         56.0 ...             158 0.0011631648843072574\n",
       "       56.0         92.0 ...              49 0.0009249152079602494\n",
       "       92.0        128.0 ...              42 0.0006708876181250207\n",
       "      128.0        164.0 ...              19 0.0007303740907956261\n",
       "      164.0        200.0 ...               6   0.00165403413793426"
      ]
     },
     "execution_count": 4,
     "metadata": {},
     "output_type": "execute_result"
    }
   ],
   "source": [
    "## Begining initialization\n",
    "startpoint = 20.0\n",
    "endpoint = 200.0\n",
    "\n",
    "## Here is where you can change the number of bins\n",
    "number_of_bins = 5\n",
    "\n",
    "spacing = (endpoint-startpoint)/number_of_bins\n",
    "fraction = Table(names=('Left Lambda','Right Lambda','AGN Fraction','Number AGN','Number Other','Number Clusters','AGN_Frac_Sigma'), dtype=('f8','f8','f8','i4','i4','i4','f8'))\n",
    "\n",
    "## If you want to impose cuts on the data, here is where you would impose them \n",
    "h = working_file\n",
    "\n",
    "agn = h[h['AGN_Candidate']] #AGN candidates\n",
    "ee = h[h['AGN_Candidate']!=True] #Everything else\n",
    "\n",
    "turn = startpoint + spacing\n",
    "\n",
    "while turn <= endpoint:\n",
    "    \n",
    "    ee_turn = ee[ee['LAMBDA_CHISQ']>turn-spacing]\n",
    "    ee_turn = ee_turn[ee_turn['LAMBDA_CHISQ']<turn]\n",
    "    \n",
    "    agn_turn = agn[agn['LAMBDA_CHISQ']>turn-spacing]\n",
    "    agn_turn = agn_turn[agn_turn['LAMBDA_CHISQ']<turn]\n",
    "    \n",
    "    agn_fraction = np.sum(agn_turn['P'])/(np.sum(agn_turn['P'])+np.sum(ee_turn['P']))\n",
    "    \n",
    "    ## We assume an error from the standard deviation of a bernouli distrubution\n",
    "    error_agn = (np.sum(agn_turn['P']*(1-agn_turn['P'])))**(0.5)\n",
    "    error_all = (np.sum(agn_turn['P']*(1-agn_turn['P']))+np.sum(ee_turn['P']*(1-ee_turn['P'])))**(0.5)\n",
    "    \n",
    "    ## Standard error propogation on independent variables (which may not actually be appropriate)\n",
    "    frac_error = (error_agn**2/(np.sum(agn_turn['P'])+np.sum(ee_turn['P']))**2+(np.sum(agn_turn['P'])*error_all/(np.sum(agn_turn['P'])+np.sum(ee_turn['P']))**2)**2)**(0.5)\n",
    "    \n",
    "    fraction.add_row([round(turn-spacing,4),round(turn,4),agn_fraction,len(agn_turn),len(ee_turn),len(unique(ee_turn,keys='MEM_MATCH_ID')),frac_error])\n",
    "    turn+=spacing\n",
    "## Plotting stuff\n",
    "L = (fraction['Left Lambda']+fraction['Right Lambda'])/2.0\n",
    "errorbar(L,fraction['AGN Fraction'],marker='o',yerr=fraction['AGN_Frac_Sigma'],ls='None')\n",
    "xlim(startpoint,endpoint)\n",
    "xlabel('Richness')\n",
    "ylabel('AGN Fraction')\n",
    "title('Richness vs. AGN Fraction')\n",
    "# savefig('Richness_AGN_high.png')\n",
    "show()\n",
    "# fraction.write('Richness_AGN_high.csv',overwrite=True)\n",
    "fraction"
   ]
  },
  {
   "cell_type": "markdown",
   "metadata": {},
   "source": [
    "### Richness with a z>0.6 cut"
   ]
  },
  {
   "cell_type": "code",
   "execution_count": 5,
   "metadata": {},
   "outputs": [
    {
     "data": {
      "image/png": "[encoded data removed]",
      "text/plain": [
       "<Figure size 432x288 with 1 Axes>"
      ]
     },
     "metadata": {},
     "output_type": "display_data"
    },
    {
     "data": {
      "text/html": [
       "<i>Table length=5</i>\n",
       "<table id=\"table34846395304\" class=\"table-striped table-bordered table-condensed\">\n",
       "<thead><tr><th>Left Lambda</th><th>Right Lambda</th><th>AGN Fraction</th><th>Number AGN</th><th>Number Other</th><th>Number Clusters</th><th>AGN_Frac_Sigma</th></tr></thead>\n",
       "<thead><tr><th>float64</th><th>float64</th><th>float64</th><th>int32</th><th>int32</th><th>int32</th><th>float64</th></tr></thead>\n",
       "<tr><td>20.0</td><td>56.0</td><td>0.022804105564574278</td><td>143</td><td>5836</td><td>103</td><td>0.0017730873198064014</td></tr>\n",
       "<tr><td>56.0</td><td>92.0</td><td>0.018522830311155845</td><td>62</td><td>2718</td><td>23</td><td>0.0017121557162990161</td></tr>\n",
       "<tr><td>92.0</td><td>128.0</td><td>0.010943013868218521</td><td>19</td><td>1347</td><td>8</td><td>0.0021492151298568084</td></tr>\n",
       "<tr><td>128.0</td><td>164.0</td><td>0.010921623331589171</td><td>13</td><td>944</td><td>4</td><td>0.002117017607625222</td></tr>\n",
       "<tr><td>164.0</td><td>200.0</td><td>0.02958747832730125</td><td>15</td><td>373</td><td>2</td><td>0.005792217783130367</td></tr>\n",
       "</table>"
      ],
      "text/plain": [
       "<Table length=5>\n",
       "Left Lambda Right Lambda ... Number Clusters     AGN_Frac_Sigma   \n",
       "  float64     float64    ...      int32             float64       \n",
       "----------- ------------ ... --------------- ---------------------\n",
       "       20.0         56.0 ...             103 0.0017730873198064014\n",
       "       56.0         92.0 ...              23 0.0017121557162990161\n",
       "       92.0        128.0 ...               8 0.0021492151298568084\n",
       "      128.0        164.0 ...               4  0.002117017607625222\n",
       "      164.0        200.0 ...               2  0.005792217783130367"
      ]
     },
     "execution_count": 5,
     "metadata": {},
     "output_type": "execute_result"
    }
   ],
   "source": [
    "## Begining initialization\n",
    "startpoint = 20.0\n",
    "endpoint = 200.0\n",
    "\n",
    "## Here is where you can change the number of bins\n",
    "number_of_bins = 5\n",
    "\n",
    "spacing = (endpoint-startpoint)/number_of_bins\n",
    "fraction = Table(names=('Left Lambda','Right Lambda','AGN Fraction','Number AGN','Number Other','Number Clusters','AGN_Frac_Sigma'), dtype=('f8','f8','f8','i4','i4','i4','f8'))\n",
    "\n",
    "## If you want to impose cuts on the data, here is where you would impose them \n",
    "h = working_file[working_file['Z']>0.6]\n",
    "\n",
    "agn = h[h['AGN_Candidate']] #AGN candidates\n",
    "ee = h[h['AGN_Candidate']!=True] #Everything else\n",
    "\n",
    "turn = startpoint + spacing\n",
    "\n",
    "while turn <= endpoint:\n",
    "    \n",
    "    ee_turn = ee[ee['LAMBDA_CHISQ']>turn-spacing]\n",
    "    ee_turn = ee_turn[ee_turn['LAMBDA_CHISQ']<turn]\n",
    "    \n",
    "    agn_turn = agn[agn['LAMBDA_CHISQ']>turn-spacing]\n",
    "    agn_turn = agn_turn[agn_turn['LAMBDA_CHISQ']<turn]\n",
    "    \n",
    "    agn_fraction = np.sum(agn_turn['P'])/(np.sum(agn_turn['P'])+np.sum(ee_turn['P']))\n",
    "    \n",
    "    ## We assume an error from the standard deviation of a bernouli distrubution\n",
    "    error_agn = (np.sum(agn_turn['P']*(1-agn_turn['P'])))**(0.5)\n",
    "    error_all = (np.sum(agn_turn['P']*(1-agn_turn['P']))+np.sum(ee_turn['P']*(1-ee_turn['P'])))**(0.5)\n",
    "    \n",
    "    ## Standard error propogation on independent variables (which may not actually be appropriate)\n",
    "    frac_error = (error_agn**2/(np.sum(agn_turn['P'])+np.sum(ee_turn['P']))**2+(np.sum(agn_turn['P'])*error_all/(np.sum(agn_turn['P'])+np.sum(ee_turn['P']))**2)**2)**(0.5)\n",
    "    \n",
    "    fraction.add_row([round(turn-spacing,4),round(turn,4),agn_fraction,len(agn_turn),len(ee_turn),len(unique(ee_turn,keys='MEM_MATCH_ID')),frac_error])\n",
    "    turn+=spacing\n",
    "## Plotting stuff\n",
    "L = (fraction['Left Lambda']+fraction['Right Lambda'])/2.0\n",
    "errorbar(L,fraction['AGN Fraction'],marker='o',yerr=fraction['AGN_Frac_Sigma'],ls='None')\n",
    "xlim(startpoint,endpoint)\n",
    "xlabel('Richness')\n",
    "ylabel('AGN Fraction')\n",
    "title('Richness vs. AGN Fraction; z>0.6')\n",
    "# savefig('Richness_AGN_high.png')\n",
    "show()\n",
    "# fraction.write('Richness_AGN_high.csv',overwrite=True)\n",
    "fraction"
   ]
  },
  {
   "cell_type": "markdown",
   "metadata": {},
   "source": [
    "### Richness with a z<0.6 cut"
   ]
  },
  {
   "cell_type": "code",
   "execution_count": 6,
   "metadata": {},
   "outputs": [
    {
     "data": {
      "image/png": "[encoded data removed]",
      "text/plain": [
       "<Figure size 432x288 with 1 Axes>"
      ]
     },
     "metadata": {},
     "output_type": "display_data"
    },
    {
     "data": {
      "text/html": [
       "<i>Table length=5</i>\n",
       "<table id=\"table34846456800\" class=\"table-striped table-bordered table-condensed\">\n",
       "<thead><tr><th>Left Lambda</th><th>Right Lambda</th><th>AGN Fraction</th><th>Number AGN</th><th>Number Other</th><th>Number Clusters</th><th>AGN_Frac_Sigma</th></tr></thead>\n",
       "<thead><tr><th>float64</th><th>float64</th><th>float64</th><th>int32</th><th>int32</th><th>int32</th><th>float64</th></tr></thead>\n",
       "<tr><td>20.0</td><td>56.0</td><td>0.02054004526774751</td><td>66</td><td>2895</td><td>55</td><td>0.0013493469690066746</td></tr>\n",
       "<tr><td>56.0</td><td>92.0</td><td>0.013308924971551088</td><td>39</td><td>2570</td><td>26</td><td>0.0009584809062606043</td></tr>\n",
       "<tr><td>92.0</td><td>128.0</td><td>0.010707457785882444</td><td>61</td><td>5055</td><td>34</td><td>0.0006818339441982523</td></tr>\n",
       "<tr><td>128.0</td><td>164.0</td><td>0.00707330815522454</td><td>29</td><td>2910</td><td>15</td><td>0.0007226325418754876</td></tr>\n",
       "<tr><td>164.0</td><td>200.0</td><td>0.011433971153141346</td><td>10</td><td>918</td><td>4</td><td>0.0011525541033091486</td></tr>\n",
       "</table>"
      ],
      "text/plain": [
       "<Table length=5>\n",
       "Left Lambda Right Lambda ... Number Clusters     AGN_Frac_Sigma   \n",
       "  float64     float64    ...      int32             float64       \n",
       "----------- ------------ ... --------------- ---------------------\n",
       "       20.0         56.0 ...              55 0.0013493469690066746\n",
       "       56.0         92.0 ...              26 0.0009584809062606043\n",
       "       92.0        128.0 ...              34 0.0006818339441982523\n",
       "      128.0        164.0 ...              15 0.0007226325418754876\n",
       "      164.0        200.0 ...               4 0.0011525541033091486"
      ]
     },
     "execution_count": 6,
     "metadata": {},
     "output_type": "execute_result"
    }
   ],
   "source": [
    "## Begining initialization\n",
    "startpoint = 20.0\n",
    "endpoint = 200.0\n",
    "\n",
    "## Here is where you can change the number of bins\n",
    "number_of_bins = 5\n",
    "\n",
    "spacing = (endpoint-startpoint)/number_of_bins\n",
    "fraction = Table(names=('Left Lambda','Right Lambda','AGN Fraction','Number AGN','Number Other','Number Clusters','AGN_Frac_Sigma'), dtype=('f8','f8','f8','i4','i4','i4','f8'))\n",
    "\n",
    "## If you want to impose cuts on the data, here is where you would impose them \n",
    "h = working_file[working_file['Z']<0.6]\n",
    "\n",
    "agn = h[h['AGN_Candidate']] #AGN candidates\n",
    "ee = h[h['AGN_Candidate']!=True] #Everything else\n",
    "\n",
    "turn = startpoint + spacing\n",
    "\n",
    "while turn <= endpoint:\n",
    "    \n",
    "    ee_turn = ee[ee['LAMBDA_CHISQ']>turn-spacing]\n",
    "    ee_turn = ee_turn[ee_turn['LAMBDA_CHISQ']<turn]\n",
    "    \n",
    "    agn_turn = agn[agn['LAMBDA_CHISQ']>turn-spacing]\n",
    "    agn_turn = agn_turn[agn_turn['LAMBDA_CHISQ']<turn]\n",
    "    \n",
    "    agn_fraction = np.sum(agn_turn['P'])/(np.sum(agn_turn['P'])+np.sum(ee_turn['P']))\n",
    "    \n",
    "    ## We assume an error from the standard deviation of a bernouli distrubution\n",
    "    error_agn = (np.sum(agn_turn['P']*(1-agn_turn['P'])))**(0.5)\n",
    "    error_all = (np.sum(agn_turn['P']*(1-agn_turn['P']))+np.sum(ee_turn['P']*(1-ee_turn['P'])))**(0.5)\n",
    "    \n",
    "    ## Standard error propogation on independent variables (which may not actually be appropriate)\n",
    "    frac_error = (error_agn**2/(np.sum(agn_turn['P'])+np.sum(ee_turn['P']))**2+(np.sum(agn_turn['P'])*error_all/(np.sum(agn_turn['P'])+np.sum(ee_turn['P']))**2)**2)**(0.5)\n",
    "    \n",
    "    fraction.add_row([round(turn-spacing,4),round(turn,4),agn_fraction,len(agn_turn),len(ee_turn),len(unique(ee_turn,keys='MEM_MATCH_ID')),frac_error])\n",
    "    turn+=spacing\n",
    "## Plotting stuff\n",
    "L = (fraction['Left Lambda']+fraction['Right Lambda'])/2.0\n",
    "errorbar(L,fraction['AGN Fraction'],marker='o',yerr=fraction['AGN_Frac_Sigma'],ls='None')\n",
    "xlim(startpoint,endpoint)\n",
    "xlabel('Richness')\n",
    "ylabel('AGN Fraction')\n",
    "title('Richness vs. AGN Fraction; z<0.6')\n",
    "# savefig('Richness_AGN_high.png')\n",
    "show()\n",
    "# fraction.write('Richness_AGN_high.csv',overwrite=True)\n",
    "fraction"
   ]
  },
  {
   "cell_type": "markdown",
   "metadata": {},
   "source": [
    "### Redshift"
   ]
  },
  {
   "cell_type": "code",
   "execution_count": 7,
   "metadata": {},
   "outputs": [
    {
     "data": {
      "image/png": "[encoded data removed]",
      "text/plain": [
       "<Figure size 432x288 with 1 Axes>"
      ]
     },
     "metadata": {},
     "output_type": "display_data"
    },
    {
     "data": {
      "text/html": [
       "<i>Table length=14</i>\n",
       "<table id=\"table34855276496\" class=\"table-striped table-bordered table-condensed\">\n",
       "<thead><tr><th>Left Z</th><th>Right Z</th><th>AGN Fraction</th><th>Number AGN</th><th>Number Other</th><th>Number Clusters</th><th>AGN_Frac_Sigma</th></tr></thead>\n",
       "<thead><tr><th>float64</th><th>float64</th><th>float64</th><th>int32</th><th>int32</th><th>int32</th><th>float64</th></tr></thead>\n",
       "<tr><td>0.0667</td><td>0.1333</td><td>0.03093975394214188</td><td>18</td><td>499</td><td>6</td><td>0.0035183828486663044</td></tr>\n",
       "<tr><td>0.1333</td><td>0.2</td><td>0.016793913258441</td><td>17</td><td>802</td><td>11</td><td>0.0017738596047620796</td></tr>\n",
       "<tr><td>0.2</td><td>0.2667</td><td>0.013961711062427122</td><td>29</td><td>1848</td><td>20</td><td>0.00101522276342537</td></tr>\n",
       "<tr><td>0.2667</td><td>0.3333</td><td>0.011070967108100677</td><td>27</td><td>2122</td><td>18</td><td>0.0010310264738660764</td></tr>\n",
       "<tr><td>0.3333</td><td>0.4</td><td>0.009870904329032298</td><td>24</td><td>2147</td><td>16</td><td>0.000887144616680813</td></tr>\n",
       "<tr><td>0.4</td><td>0.4667</td><td>0.014669439181411564</td><td>37</td><td>2397</td><td>24</td><td>0.0010547519242807507</td></tr>\n",
       "<tr><td>0.4667</td><td>0.5333</td><td>0.008185037974895094</td><td>23</td><td>1927</td><td>19</td><td>0.0011124381084773288</td></tr>\n",
       "<tr><td>0.5333</td><td>0.6</td><td>0.008950484762310395</td><td>30</td><td>2606</td><td>20</td><td>0.0011359187289605283</td></tr>\n",
       "<tr><td>0.6</td><td>0.6667</td><td>0.017164329600474395</td><td>38</td><td>1778</td><td>15</td><td>0.0018730551816501944</td></tr>\n",
       "<tr><td>0.6667</td><td>0.7333</td><td>0.01620006916788298</td><td>27</td><td>1457</td><td>16</td><td>0.002413797696994116</td></tr>\n",
       "<tr><td>0.7333</td><td>0.8</td><td>0.010518795379538514</td><td>27</td><td>1884</td><td>19</td><td>0.0017219432084362829</td></tr>\n",
       "<tr><td>0.8</td><td>0.8667</td><td>0.02266742937088022</td><td>58</td><td>2304</td><td>34</td><td>0.0026415437216087715</td></tr>\n",
       "<tr><td>0.8667</td><td>0.9333</td><td>0.024555545087255284</td><td>89</td><td>3291</td><td>46</td><td>0.00250336325285423</td></tr>\n",
       "<tr><td>0.9333</td><td>1.0</td><td>0.028597382117495948</td><td>13</td><td>504</td><td>10</td><td>0.005909586799339652</td></tr>\n",
       "</table>"
      ],
      "text/plain": [
       "<Table length=14>\n",
       " Left Z Right Z     AGN Fraction     ... Number Clusters     AGN_Frac_Sigma   \n",
       "float64 float64       float64        ...      int32             float64       \n",
       "------- ------- -------------------- ... --------------- ---------------------\n",
       " 0.0667  0.1333  0.03093975394214188 ...               6 0.0035183828486663044\n",
       " 0.1333     0.2    0.016793913258441 ...              11 0.0017738596047620796\n",
       "    0.2  0.2667 0.013961711062427122 ...              20   0.00101522276342537\n",
       " 0.2667  0.3333 0.011070967108100677 ...              18 0.0010310264738660764\n",
       " 0.3333     0.4 0.009870904329032298 ...              16  0.000887144616680813\n",
       "    0.4  0.4667 0.014669439181411564 ...              24 0.0010547519242807507\n",
       " 0.4667  0.5333 0.008185037974895094 ...              19 0.0011124381084773288\n",
       " 0.5333     0.6 0.008950484762310395 ...              20 0.0011359187289605283\n",
       "    0.6  0.6667 0.017164329600474395 ...              15 0.0018730551816501944\n",
       " 0.6667  0.7333  0.01620006916788298 ...              16  0.002413797696994116\n",
       " 0.7333     0.8 0.010518795379538514 ...              19 0.0017219432084362829\n",
       "    0.8  0.8667  0.02266742937088022 ...              34 0.0026415437216087715\n",
       " 0.8667  0.9333 0.024555545087255284 ...              46   0.00250336325285423\n",
       " 0.9333     1.0 0.028597382117495948 ...              10  0.005909586799339652"
      ]
     },
     "execution_count": 7,
     "metadata": {},
     "output_type": "execute_result"
    }
   ],
   "source": [
    "## Begining initialization\n",
    "startpoint = 0.0\n",
    "endpoint = 1.0\n",
    "\n",
    "## Here is where you can change the number of bins\n",
    "number_of_bins = 15\n",
    "\n",
    "spacing = (endpoint-startpoint)/number_of_bins\n",
    "fraction = Table(names=('Left Z','Right Z','AGN Fraction','Number AGN','Number Other','Number Clusters','AGN_Frac_Sigma'), dtype=('f8','f8','f8','i4','i4','i4','f8'))\n",
    "\n",
    "## If you want to impose cuts on the data, here is where you would impose them \n",
    "h = working_file\n",
    "\n",
    "agn = h[h['AGN_Candidate']] #AGN candidates\n",
    "ee = h[h['AGN_Candidate']!=True] #Everything else\n",
    "\n",
    "turn = startpoint + spacing\n",
    "\n",
    "while turn <= endpoint:\n",
    "    \n",
    "    ee_turn = ee[ee['Z']>turn-spacing]\n",
    "    ee_turn = ee_turn[ee_turn['Z']<turn]\n",
    "    \n",
    "    # The first class has no values so we don't bother with the analysis for it. \n",
    "    if len(ee_turn)==0:\n",
    "        turn+=spacing\n",
    "        continue\n",
    "    \n",
    "    agn_turn = agn[agn['Z']>turn-spacing]\n",
    "    agn_turn = agn_turn[agn_turn['Z']<turn]\n",
    "    \n",
    "    agn_fraction = np.sum(agn_turn['P'])/(np.sum(agn_turn['P'])+np.sum(ee_turn['P']))\n",
    "    \n",
    "    ## We assume an error from the standard deviation of a bernouli distrubution\n",
    "    error_agn = (np.sum(agn_turn['P']*(1-agn_turn['P'])))**(0.5)\n",
    "    error_all = (np.sum(agn_turn['P']*(1-agn_turn['P']))+np.sum(ee_turn['P']*(1-ee_turn['P'])))**(0.5)\n",
    "    \n",
    "    ## Standard error propogation on independent variables (which may not actually be appropriate)\n",
    "    frac_error = (error_agn**2/(np.sum(agn_turn['P'])+np.sum(ee_turn['P']))**2+(np.sum(agn_turn['P'])*error_all/(np.sum(agn_turn['P'])+np.sum(ee_turn['P']))**2)**2)**(0.5)\n",
    "    \n",
    "    \n",
    "    fraction.add_row([round(turn-spacing,4),round(turn,4),agn_fraction,len(agn_turn),len(ee_turn),len(unique(ee_turn,keys='MEM_MATCH_ID')),frac_error])\n",
    "    turn+=spacing\n",
    "## Plotting stuff\n",
    "L = (fraction['Left Z']+fraction['Right Z'])/2.0\n",
    "errorbar(L,fraction['AGN Fraction'],marker='o',yerr=fraction['AGN_Frac_Sigma'],ls='None')\n",
    "xlim(startpoint,endpoint)\n",
    "xlabel('Redshift')\n",
    "ylabel('AGN Fraction')\n",
    "title('Redshift vs. AGN Fraction; z>0.6')\n",
    "# savefig('Richness_AGN_high.png')\n",
    "show()\n",
    "# fraction.write('Richness_AGN_high.csv',overwrite=True)\n",
    "fraction"
   ]
  },
  {
   "cell_type": "code",
   "execution_count": null,
   "metadata": {},
   "outputs": [],
   "source": []
  }
 ],
 "metadata": {
  "kernelspec": {
   "display_name": "Python 3",
   "language": "python",
   "name": "python3"
  },
  "language_info": {
   "codemirror_mode": {
    "name": "ipython",
    "version": 3
   },
   "file_extension": ".py",
   "mimetype": "text/x-python",
   "name": "python",
   "nbconvert_exporter": "python",
   "pygments_lexer": "ipython3",
   "version": "3.6.5"
  }
 },
 "nbformat": 4,
 "nbformat_minor": 2
}
